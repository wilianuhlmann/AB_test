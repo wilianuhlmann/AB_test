{
 "cells": [
  {
   "cell_type": "markdown",
   "id": "6cffd48a",
   "metadata": {},
   "source": [
    "## Sobre:\n",
    "    \n",
    "    A Electronic House é um comercio online ( e-commerce ) de produtos de informática\n",
    "    para casas e escritórios. Os clientes podem comprar mouses, monitores, teclados,\n",
    "    computadores, laptops, cabos HDMI, fones de ouvido, cameras webcam, entre\n",
    "    outros, através de um site online e recebem os produtos no conforto de suas casas\n",
    "    produtos não são vendidos somente no Brasil, a Eletronic House está presente\n",
    "    em diversos países da Europa e da América do Norte.\n",
    "    O Diretor de Produtos Global pediu ao Head de Design que desenvolvesse uma\n",
    "    nova forma de finalizar a compra com cartão de crédito, sem a necessidade do\n",
    "    cliente preencher manualmente todas as informações do cartão e que funcionasse\n",
    "    em todos os países.\n",
    "    Depois de meses desenvolvendo esse dispositivo, o time de Desenvolvimento\n",
    "    Backend entregou uma solução de pagamentos, na qual 90% das informações do\n",
    "    formulário eram preenchido automaticamente.\n",
    "    O Head de Designer gostaria de medir a efetividade do novo dispositivo de\n",
    "    preenchimento automático dos dados do cartão de crédito na página de vendas e\n",
    "    reportar os resultados ao Diretor de Produtos Global, para concluir se a nova forma\n",
    "    de pagamento é realmente melhor do que a antiga.\n",
    "    As duas páginas foram colocadas no ar e durante alguns meses e o time de Front-\n",
    "    End desenvolveu uma automação que atribui um rótulo para cada cliente,\n",
    "    mostrando qual a página de vendas aquele determinado cliente estava visualizando.\n",
    "    Todos esses dados foram armazenados em um banco de dados e podem ser\n",
    "    acessados pelos times da Electronic House.\n",
    "\n",
    "\n",
    "## O Desafio:\n",
    "    Depois de alguns meses de experimento, o time de Designers da Electronic House,\n",
    "    precisa avaliar os resultados do experimento realizado, a fim de concluir qual era a\n",
    "    forma de pagamento mais eficaz.\n",
    "    Porém, o time não possui as habilidades necessárias para avaliar os dados e\n",
    "    concluir o experimento. Nesse contexto, você foi contratado como Cientista de\n",
    "    Dados para ajudar o time de Designers a validar a efetividade do novo meio de\n",
    "    pagamento, com mais confiança e rigidez na análise.\n",
    "    entregável do seu trabalho é o seguinte:\n",
    "    1. Qual a melhor forma de pagamento: Preenchimento Manual ou Automático do\n",
    "    formulário de dados do cartão de crédito?\n",
    "\n",
    "### Descrição dos dados:\n",
    "\n",
    "Colunas Device:\n",
    "\n",
    "    - Compra feita atraves do site\n",
    "    \n",
    "    - Compra feita atraves do App\n",
    "\n",
    "Coluna Group:\n",
    "    \n",
    "    -group A = Compra manual\n",
    "\n",
    "    -group B = Compra automatica"
   ]
  },
  {
   "cell_type": "markdown",
   "id": "3980ca08",
   "metadata": {},
   "source": [
    "# 0.0. Imports"
   ]
  },
  {
   "cell_type": "code",
   "execution_count": 6,
   "id": "b9fcfcee",
   "metadata": {},
   "outputs": [],
   "source": [
    "import pandas as pd"
   ]
  },
  {
   "cell_type": "markdown",
   "id": "51b722db",
   "metadata": {},
   "source": [
    "## 0.1. Load Dataset"
   ]
  },
  {
   "cell_type": "code",
   "execution_count": 7,
   "id": "4e75d5bd",
   "metadata": {},
   "outputs": [],
   "source": [
    "raw = pd.read_csv('data/ab_testing.csv')"
   ]
  },
  {
   "cell_type": "markdown",
   "id": "c078064d",
   "metadata": {},
   "source": [
    "# 1.0. Data Descriptions"
   ]
  },
  {
   "cell_type": "code",
   "execution_count": null,
   "id": "062845c1",
   "metadata": {},
   "outputs": [],
   "source": []
  }
 ],
 "metadata": {
  "kernelspec": {
   "display_name": "Python 3 (ipykernel)",
   "language": "python",
   "name": "python3"
  },
  "language_info": {
   "codemirror_mode": {
    "name": "ipython",
    "version": 3
   },
   "file_extension": ".py",
   "mimetype": "text/x-python",
   "name": "python",
   "nbconvert_exporter": "python",
   "pygments_lexer": "ipython3",
   "version": "3.8.10"
  }
 },
 "nbformat": 4,
 "nbformat_minor": 5
}
